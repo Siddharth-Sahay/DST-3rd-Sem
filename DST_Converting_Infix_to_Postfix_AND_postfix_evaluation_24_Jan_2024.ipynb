{
  "nbformat": 4,
  "nbformat_minor": 0,
  "metadata": {
    "colab": {
      "provenance": []
    },
    "kernelspec": {
      "name": "python3",
      "display_name": "Python 3"
    },
    "language_info": {
      "name": "python"
    }
  },
  "cells": [
    {
      "cell_type": "code",
      "execution_count": null,
      "metadata": {
        "colab": {
          "base_uri": "https://localhost:8080/"
        },
        "id": "rg4Z3PJLiCp6",
        "outputId": "4cb72fb7-1d85-485c-bd25-1885081ac312"
      },
      "outputs": [
        {
          "output_type": "stream",
          "name": "stdout",
          "text": [
            "infix a+b-c*(c-b*d)+a\n",
            "postfix  ab+ccbd*-*-a+\n"
          ]
        }
      ],
      "source": [
        "def operator(char):\n",
        "  return char in [\"+\",\"-\",\"*\",\"/\"]\n",
        "\n",
        "def precedence(op):\n",
        "  if op == \"+\" or op == \"-\":\n",
        "    return 1\n",
        "  elif op == \"*\" or op == \"/\":\n",
        "    return 2\n",
        "  else:\n",
        "    return 0\n",
        "\n",
        "def in_to_post(ex):\n",
        "  stack = []\n",
        "  postfix = []\n",
        "  for char in ex:\n",
        "    if char.isalnum():\n",
        "      postfix.append(char)\n",
        "    elif char == \"(\":\n",
        "      stack.append(char)\n",
        "    elif char == \")\":\n",
        "      while stack and stack[-1] != \"(\":\n",
        "        postfix.append(stack.pop())\n",
        "      stack.pop()\n",
        "    elif operator(char):\n",
        "      while stack and precedence(stack[-1]) >= precedence(char):\n",
        "        postfix.append(stack.pop())\n",
        "      stack.append(char)\n",
        "\n",
        "  while stack:\n",
        "    postfix.append(stack.pop())\n",
        "  return ''.join(postfix)\n",
        "\n",
        "infix_expression = \"a+b-c*(c-b*d)+a\"\n",
        "postfix_ex = in_to_post(infix_expression)\n",
        "print(\"infix\",infix_expression)\n",
        "print(\"postfix \", postfix_ex)"
      ]
    },
    {
      "cell_type": "code",
      "source": [
        "ex = list(input(\"Enter the postfix expression: \").split(\" \"))\n",
        "stack = []\n",
        "for i in ex:\n",
        "    if(i in [\"+\", \"-\", \"*\", \"/\"]):\n",
        "        first = stack.pop()\n",
        "        second = stack.pop()\n",
        "        if(i==\"+\"):\n",
        "            stack.append(second+first)\n",
        "        elif(i==\"-\"):\n",
        "            stack.append(second-first)\n",
        "        elif(i==\"*\"):\n",
        "            stack.append(second*first)\n",
        "        elif(i==\"/\"):\n",
        "            stack.append(second/first)\n",
        "    elif i==\" \":\n",
        "        continue\n",
        "    else:\n",
        "        stack.append(int(i))\n",
        "print(\"result \",stack[0])"
      ],
      "metadata": {
        "colab": {
          "base_uri": "https://localhost:8080/"
        },
        "id": "t6_yX9rA0U9u",
        "outputId": "252aaee6-cb86-4ab5-efbc-4bc23dcbe49d"
      },
      "execution_count": 5,
      "outputs": [
        {
          "output_type": "stream",
          "name": "stdout",
          "text": [
            "Enter the postfix expression: 1 2 + 3 3 2 4 * - * - 1 +\n",
            "result  19\n"
          ]
        }
      ]
    }
  ]
}
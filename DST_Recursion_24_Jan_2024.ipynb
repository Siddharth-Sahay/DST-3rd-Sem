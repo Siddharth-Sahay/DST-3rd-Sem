{
  "nbformat": 4,
  "nbformat_minor": 0,
  "metadata": {
    "colab": {
      "provenance": []
    },
    "kernelspec": {
      "name": "python3",
      "display_name": "Python 3"
    },
    "language_info": {
      "name": "python"
    }
  },
  "cells": [
    {
      "cell_type": "code",
      "execution_count": null,
      "metadata": {
        "id": "luptgogeozdE"
      },
      "outputs": [],
      "source": [
        "##factorial\n",
        "\n",
        "def factorial(n):\n",
        "  if n == 0 or n == 1:\n",
        "    return 1\n",
        "  else:\n",
        "    return n * factorial(n-1)\n",
        "\n",
        "n = int(input(\"Enter the number - \"))\n",
        "res = factorial(n)\n",
        "print(res)"
      ]
    },
    {
      "cell_type": "code",
      "source": [
        "##fibonacci\n",
        "\n",
        "def fibonacci(n):\n",
        "  if n <= 1:\n",
        "    return n\n",
        "  else:\n",
        "    return fibonacci(n-1) + fibonacci (n-2)\n",
        "\n",
        "n = int(input(\"ENter the terms - \"))\n",
        "if n <= 0:\n",
        "  print(\"Incorrect input\")\n",
        "else:\n",
        "  print(\"Fibonacci series\")\n",
        "  for i in range(n):\n",
        "    print(fibonacci(i))"
      ],
      "metadata": {
        "colab": {
          "base_uri": "https://localhost:8080/"
        },
        "id": "1qskn3mep_oJ",
        "outputId": "745082e2-4c76-4166-edd0-c4db37ecd30d"
      },
      "execution_count": 5,
      "outputs": [
        {
          "output_type": "stream",
          "name": "stdout",
          "text": [
            "ENter the terms - 10\n",
            "Fibonacci series\n",
            "0\n",
            "1\n",
            "1\n",
            "2\n",
            "3\n",
            "5\n",
            "8\n",
            "13\n",
            "21\n",
            "34\n"
          ]
        }
      ]
    }
  ]
}
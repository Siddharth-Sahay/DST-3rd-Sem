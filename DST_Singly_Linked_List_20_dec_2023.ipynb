{
  "nbformat": 4,
  "nbformat_minor": 0,
  "metadata": {
    "colab": {
      "provenance": []
    },
    "kernelspec": {
      "name": "python3",
      "display_name": "Python 3"
    },
    "language_info": {
      "name": "python"
    }
  },
  "cells": [
    {
      "cell_type": "code",
      "execution_count": 1,
      "metadata": {
        "id": "4Nkb67PbSoZJ"
      },
      "outputs": [],
      "source": [
        "class Node:\n",
        "  def __init__(self,data):\n",
        "    self.data = data\n",
        "    self.next = None"
      ]
    },
    {
      "cell_type": "code",
      "source": [
        "class LinkedList:\n",
        "  def __init__(self):\n",
        "    self.head = None\n",
        "\n",
        "\n",
        "  def insertAtBegin (self,data):\n",
        "    new_node = Node(data)\n",
        "    if self.head is None:\n",
        "      self.head = new_node\n",
        "      return\n",
        "    else:\n",
        "      new_node.next = self.head\n",
        "      self.head = new_node\n",
        "\n",
        "  def insertAtIndex (self,data,index):\n",
        "    new_node = Node(data)\n",
        "    current_node = self.head\n",
        "    position = 0\n",
        "    if position == index:\n",
        "     self.insertAtBegin(data)\n",
        "    else:\n",
        "      while(current_node != None and position + 1 != index):\n",
        "        position = position + 1\n",
        "        current_node = current_node.next\n",
        "\n",
        "      if current_node != None:\n",
        "        new_node.next = current_node.next\n",
        "        current_node.next = new_node\n",
        "      else:\n",
        "        print(\"index not present\")\n",
        "\n",
        "\n",
        "\n",
        "  def insertAtIndex (self,data,index):\n",
        "    new_node = Node(data)\n",
        "    current_node = self.head\n",
        "    position = 0\n",
        "    if position == index:\n",
        "     self.insertAtBegin(data)\n",
        "    else:\n",
        "      while(current_node != None and position + 1 != index):\n",
        "        position = position + 1\n",
        "        current_node = current_node.next\n",
        "\n",
        "      if current_node != None:\n",
        "        new_node.next = current_node.next\n",
        "        current_node.next = new_node\n",
        "      else:\n",
        "        print(\"index not present\")\n",
        "\n",
        "\n",
        "\n",
        "\n",
        "  def insertAtEnd(self, data):\n",
        "    new_node = Node(data)\n",
        "    if self.head is None:\n",
        "      self.head = new_node\n",
        "      return\n",
        "\n",
        "    current_node = self.head\n",
        "    while (current_node.next):\n",
        "      current_node = current_node.next\n",
        "\n",
        "    current_node.next = new_node\n",
        "\n",
        "\n",
        "\n",
        "  def updateNode(self,val,index):\n",
        "    current_node = self.head\n",
        "    position = 0\n",
        "    if position == index:\n",
        "      current_node.data = val\n",
        "    else:\n",
        "      while(current_node != None and position!= index):\n",
        "        position = position + 1\n",
        "        current_node = current_node.next\n",
        "\n",
        "    if current_node != None:\n",
        "      current_node.data = val\n",
        "    else:\n",
        "      print(\"index not present\")\n",
        "\n",
        "\n",
        "  def remove_first_node(self):\n",
        "    if (self.head == None):\n",
        "      return\n",
        "\n",
        "    self.head = self.head.next\n",
        "\n",
        "\n",
        "\n",
        "  def remove_last_node(self):\n",
        "    if self.head is None:\n",
        "      return\n",
        "\n",
        "    current_node = self.head\n",
        "    while(current_node.next.next):\n",
        "      current_node = current_node.next\n",
        "\n",
        "    current_node.next = None\n",
        "\n",
        "\n",
        "\n",
        "  def remove_at_index(self,index):\n",
        "    if self.head == None:\n",
        "      return\n",
        "\n",
        "    current_node = self.head\n",
        "    position = 0\n",
        "    if position ==  index:\n",
        "      self.remove_first_node()\n",
        "    else:\n",
        "      while(current_node != None and position+1 != index):\n",
        "        position = position +  1\n",
        "        current_node = current_node.next\n",
        "      if current_node != None:\n",
        "        current_node.next = current_node.next.next\n",
        "      else:\n",
        "        print(\"index not present\")\n",
        "\n",
        "\n",
        "\n",
        "\n",
        "\n",
        "  def remove_node(self,data):\n",
        "    current_node = self.head\n",
        "\n",
        "    if current_node.data == data:\n",
        "      self.remove_first_node()\n",
        "      return\n",
        "\n",
        "    while(current_node != None  and current_node.next.data != data):\n",
        "      current_node = current_node.next\n",
        "\n",
        "    if current_node == None:\n",
        "      return\n",
        "    else:\n",
        "      current_node.next = current_node.next.next\n",
        "\n",
        "\n",
        "\n",
        "\n",
        "\n",
        "  def sixeOfLL(self):\n",
        "    size = 0\n",
        "    if(self.head):\n",
        "      current_node = self.head\n",
        "      while(current_node):\n",
        "        size = size +1\n",
        "        current_node = current_node.next\n",
        "      return size\n",
        "    else:\n",
        "      return 0\n",
        "\n",
        "\n",
        "\n",
        "\n",
        "  def printLL(self):\n",
        "    current_node = self.head\n",
        "    while(current_node):\n",
        "      print(current_node.data)\n",
        "      current_node = current_node.next\n"
      ],
      "metadata": {
        "id": "vS_zRCjCThCg"
      },
      "execution_count": 2,
      "outputs": []
    },
    {
      "cell_type": "code",
      "source": [
        "llist = LinkedList()\n"
      ],
      "metadata": {
        "id": "VtQXaHhvbe0d"
      },
      "execution_count": 3,
      "outputs": []
    },
    {
      "cell_type": "code",
      "source": [
        "llist.insertAtEnd('a')\n",
        "llist.insertAtEnd('b')\n",
        "llist.insertAtBegin('c')\n",
        "llist.insertAtEnd('d')\n",
        "llist.insertAtIndex('g', 2)\n"
      ],
      "metadata": {
        "id": "Qi1XRRgibkdZ"
      },
      "execution_count": 4,
      "outputs": []
    },
    {
      "cell_type": "code",
      "source": [
        "print(\"Node Data\")\n",
        "llist.printLL()"
      ],
      "metadata": {
        "colab": {
          "base_uri": "https://localhost:8080/"
        },
        "id": "5_ga33Gzb8qV",
        "outputId": "962482a0-093c-4551-ecd2-4f33d97d261e"
      },
      "execution_count": 5,
      "outputs": [
        {
          "output_type": "stream",
          "name": "stdout",
          "text": [
            "Node Data\n",
            "c\n",
            "a\n",
            "g\n",
            "b\n",
            "d\n"
          ]
        }
      ]
    },
    {
      "cell_type": "code",
      "source": [
        "print(\"\\nRemove First Node\")\n",
        "llist.remove_first_node()\n",
        "print(\"\\nRemove Last Node\")\n",
        "llist.remove_last_node()\n",
        "print(\"\\nRemove Node at index 1\")\n",
        "llist.remove_at_index(1)\n"
      ],
      "metadata": {
        "colab": {
          "base_uri": "https://localhost:8080/"
        },
        "id": "skQlGaqOf8er",
        "outputId": "086cfd8c-c685-4f48-a1da-551087296874"
      },
      "execution_count": 6,
      "outputs": [
        {
          "output_type": "stream",
          "name": "stdout",
          "text": [
            "\n",
            "Remove First Node\n",
            "\n",
            "Remove Last Node\n",
            "\n",
            "Remove Node at index 1\n"
          ]
        }
      ]
    },
    {
      "cell_type": "code",
      "source": [
        "print(\"\\nLinked list after removeing a node: \")\n",
        "llist.printLL()\n",
        "\n",
        "print(\"\\nUpdatev node Value\")\n",
        "llist.updateNode(\"z\",0)\n",
        "llist.printLL()\n"
      ],
      "metadata": {
        "colab": {
          "base_uri": "https://localhost:8080/"
        },
        "id": "eOjW9Owwgl0y",
        "outputId": "a3f53da4-f0bb-49df-a700-9717446c449e"
      },
      "execution_count": 7,
      "outputs": [
        {
          "output_type": "stream",
          "name": "stdout",
          "text": [
            "\n",
            "Linked list after removeing a node: \n",
            "a\n",
            "b\n",
            "\n",
            "Updatev node Value\n",
            "z\n",
            "b\n"
          ]
        }
      ]
    }
  ]
}